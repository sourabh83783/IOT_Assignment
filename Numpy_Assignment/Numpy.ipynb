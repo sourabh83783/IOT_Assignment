{
 "cells": [
  {
   "cell_type": "code",
   "execution_count": 3,
   "id": "2899b9f0-19db-4eff-9658-08486f9390ad",
   "metadata": {},
   "outputs": [],
   "source": [
    "import numpy as np"
   ]
  },
  {
   "cell_type": "code",
   "execution_count": 2,
   "id": "f9fd834c-d20a-42a4-abc6-e9ceb9de9064",
   "metadata": {},
   "outputs": [],
   "source": [
    "arr = np.array([10,20,30,40,50])"
   ]
  },
  {
   "cell_type": "code",
   "execution_count": 3,
   "id": "4aadf40b-5fde-45c0-ab28-e319b8f1a222",
   "metadata": {},
   "outputs": [
    {
     "name": "stdout",
     "output_type": "stream",
     "text": [
      "Memory occupied by array = 40\n"
     ]
    }
   ],
   "source": [
    "print(f\"Memory occupied by array = {arr.nbytes}\")"
   ]
  },
  {
   "cell_type": "code",
   "execution_count": 4,
   "id": "498d99f5-4d2c-4c9a-8784-458f33b5de15",
   "metadata": {},
   "outputs": [
    {
     "name": "stdout",
     "output_type": "stream",
     "text": [
      "[0. 0. 0. 0. 0. 0. 0. 0. 0. 0.]\n"
     ]
    }
   ],
   "source": [
    "arr1 = np.zeros(10)\n",
    "print(arr1)"
   ]
  },
  {
   "cell_type": "code",
   "execution_count": 7,
   "id": "f76a20be-f77f-4c8a-9d6c-c7fe5fe61e27",
   "metadata": {},
   "outputs": [
    {
     "name": "stdout",
     "output_type": "stream",
     "text": [
      "[1. 1. 1. 1. 1. 1. 1. 1. 1. 1.]\n"
     ]
    }
   ],
   "source": [
    "arr2 = np.ones(10)\n",
    "print(arr2)"
   ]
  },
  {
   "cell_type": "code",
   "execution_count": 8,
   "id": "1be6cff2-b6e0-454b-a212-c2fe34ffcf02",
   "metadata": {},
   "outputs": [
    {
     "name": "stdout",
     "output_type": "stream",
     "text": [
      "[10. 10. 10. 10. 10. 10. 10. 10. 10. 10.]\n"
     ]
    }
   ],
   "source": [
    "arr3 = np.ones(10)\n",
    "print(arr3*10)"
   ]
  },
  {
   "cell_type": "code",
   "execution_count": 9,
   "id": "cdd62ebe-4b84-46ce-bf1b-f3e272e3ad94",
   "metadata": {},
   "outputs": [
    {
     "name": "stdout",
     "output_type": "stream",
     "text": [
      "[20. 20. 20. 20. 20. 20. 20. 20. 20. 20.]\n"
     ]
    }
   ],
   "source": [
    "arr4 = np.ones(10)\n",
    "print(arr4*20)"
   ]
  },
  {
   "cell_type": "code",
   "execution_count": 10,
   "id": "2093ac50-c9cf-46a8-818b-66f0613675d8",
   "metadata": {},
   "outputs": [
    {
     "name": "stdout",
     "output_type": "stream",
     "text": [
      "[50. 50. 50. 50. 50. 50. 50. 50. 50. 50.]\n"
     ]
    }
   ],
   "source": [
    "arr5 = np.ones(10)\n",
    "print(arr5*50)"
   ]
  },
  {
   "cell_type": "code",
   "execution_count": 15,
   "id": "83ad0f2c-043d-45b4-9212-ccc02081a121",
   "metadata": {},
   "outputs": [
    {
     "name": "stdout",
     "output_type": "stream",
     "text": [
      "[30 31 32 33 34 35 36 37 38 39 40 41 42 43 44 45 46 47 48 49 50 51 52 53\n",
      " 54 55 56 57 58 59 60 61 62 63 64 65 66 67 68 69]\n"
     ]
    }
   ],
   "source": [
    "arr6 = np.arange(30,70)\n",
    "print(arr6)"
   ]
  },
  {
   "cell_type": "code",
   "execution_count": 16,
   "id": "fe767aec-d8fd-4871-bd81-3ceb22bc23f4",
   "metadata": {},
   "outputs": [
    {
     "name": "stdout",
     "output_type": "stream",
     "text": [
      "[50 51 52 53 54 55 56 57 58 59 60 61 62 63 64 65 66 67 68 69 70 71 72 73\n",
      " 74 75 76 77 78 79 80 81 82 83 84 85 86 87 88 89 90 91 92 93 94]\n"
     ]
    }
   ],
   "source": [
    "arr7 = np.arange(50,95)\n",
    "print(arr7)"
   ]
  },
  {
   "cell_type": "code",
   "execution_count": 17,
   "id": "ab64c886-74ea-44c7-8630-750549f9484e",
   "metadata": {},
   "outputs": [
    {
     "name": "stdout",
     "output_type": "stream",
     "text": [
      "[20 22 24 26 28 30 32 34 36 38 40 42 44 46 48 50 52 54 56 58 60 62 64 66\n",
      " 68 70 72 74 76 78]\n"
     ]
    }
   ],
   "source": [
    "arr8 = np.arange(20,80,2)\n",
    "print(arr8)"
   ]
  },
  {
   "cell_type": "code",
   "execution_count": 21,
   "id": "a34d6b20-7d78-41d6-a461-7f210c10760d",
   "metadata": {},
   "outputs": [
    {
     "name": "stdout",
     "output_type": "stream",
     "text": [
      "[21 23 25 27 29 31 33 35 37 39 41 43 45 47 49 51 53 55 57 59 61 63 65 67\n",
      " 69 71 73 75 77 79]\n"
     ]
    }
   ],
   "source": [
    "arr8 = np.arange(21,80,2)\n",
    "print(arr8)"
   ]
  },
  {
   "cell_type": "code",
   "execution_count": 30,
   "id": "b0949eee-166e-4081-94b3-47468c67cba2",
   "metadata": {},
   "outputs": [
    {
     "name": "stdout",
     "output_type": "stream",
     "text": [
      "[38 26 27 33 16 35 27 24 14 24 39 26 32 12 13]\n"
     ]
    }
   ],
   "source": [
    "n1 = np.random.randint(10,40,15)\n",
    "print(n1)"
   ]
  },
  {
   "cell_type": "code",
   "execution_count": 29,
   "id": "6df9cdfe-539d-4eff-987a-db649ef75328",
   "metadata": {},
   "outputs": [
    {
     "name": "stdout",
     "output_type": "stream",
     "text": [
      "[88 56 57 62 52 77 63 74 79 52 74 80 52 51 86 72 72 69 56 55]\n"
     ]
    }
   ],
   "source": [
    "n2 = np.random.randint(30,50,10)\n",
    "print(n1)"
   ]
  },
  {
   "cell_type": "code",
   "execution_count": 28,
   "id": "795b8020-54e4-4768-bb0d-50c61753cf11",
   "metadata": {},
   "outputs": [
    {
     "name": "stdout",
     "output_type": "stream",
     "text": [
      "[88 56 57 62 52 77 63 74 79 52 74 80 52 51 86 72 72 69 56 55]\n"
     ]
    }
   ],
   "source": [
    "n3 = np.random.randint(50,90,20)\n",
    "print(n1)"
   ]
  },
  {
   "cell_type": "code",
   "execution_count": 31,
   "id": "7a6d3594-7d26-4fb2-9dcf-18161f0f1de4",
   "metadata": {},
   "outputs": [
    {
     "name": "stdout",
     "output_type": "stream",
     "text": [
      "[ 8 10 12 14 16 18]\n"
     ]
    }
   ],
   "source": [
    "arr9 = np.array([1,2,3,4,5,6])\n",
    "arr10 = np.array([7,8,9,10,11,12])\n",
    "print(arr9+arr10)"
   ]
  },
  {
   "cell_type": "code",
   "execution_count": 32,
   "id": "ef9f92a3-e467-4403-8663-03001ffe2bb7",
   "metadata": {},
   "outputs": [
    {
     "name": "stdout",
     "output_type": "stream",
     "text": [
      "[-6 -6 -6 -6 -6 -6]\n"
     ]
    }
   ],
   "source": [
    "print(arr9-arr10)"
   ]
  },
  {
   "cell_type": "code",
   "execution_count": 33,
   "id": "698e4067-e6fe-449c-907e-bd951f9c0b31",
   "metadata": {},
   "outputs": [
    {
     "name": "stdout",
     "output_type": "stream",
     "text": [
      "[0.14285714 0.25       0.33333333 0.4        0.45454545 0.5       ]\n"
     ]
    }
   ],
   "source": [
    "print(arr9/arr10)"
   ]
  },
  {
   "cell_type": "code",
   "execution_count": 34,
   "id": "c6ae8421-2a67-4fcf-a7db-412e070c066d",
   "metadata": {},
   "outputs": [
    {
     "name": "stdout",
     "output_type": "stream",
     "text": [
      "[ 7 16 27 40 55 72]\n"
     ]
    }
   ],
   "source": [
    "print(arr9*arr10)"
   ]
  },
  {
   "cell_type": "code",
   "execution_count": 44,
   "id": "9298a899-35a0-4e62-b7c5-fd73a549742e",
   "metadata": {},
   "outputs": [
    {
     "name": "stdout",
     "output_type": "stream",
     "text": [
      "[[10 11 12 13]\n",
      " [14 15 16 17]\n",
      " [18 19 20 21]]\n"
     ]
    }
   ],
   "source": [
    "n3 = np.arange(10,22)\n",
    "n3 = n3.reshape([3,4])\n",
    "print(n3)"
   ]
  },
  {
   "cell_type": "code",
   "execution_count": 48,
   "id": "e91df4b7-4abd-4021-a679-6de5c6ca7ad8",
   "metadata": {},
   "outputs": [
    {
     "name": "stdout",
     "output_type": "stream",
     "text": [
      "[[1 0 0]\n",
      " [0 1 0]\n",
      " [0 0 1]]\n"
     ]
    }
   ],
   "source": [
    "n4 = np.array([1,0,0,0,1,0,0,0,1])\n",
    "n4 = n4.reshape([3,3])\n",
    "print(n4)"
   ]
  },
  {
   "cell_type": "code",
   "execution_count": 49,
   "id": "1ce12fbd-5c21-4586-9b94-d113c8309e3f",
   "metadata": {},
   "outputs": [
    {
     "name": "stdout",
     "output_type": "stream",
     "text": [
      "[[1 0 0 0 0]\n",
      " [0 2 0 0 0]\n",
      " [0 0 3 0 0]\n",
      " [0 0 0 4 0]\n",
      " [0 0 0 0 5]]\n"
     ]
    }
   ],
   "source": [
    "n5 = np.array([1,0,0,0,0,0,2,0,0,0,0,0,3,0,0,0,0,0,4,0,0,0,0,0,5])\n",
    "n5 = n5.reshape([5,5])\n",
    "print(n5)"
   ]
  },
  {
   "cell_type": "code",
   "execution_count": 60,
   "id": "676f5348-7dfc-4ef3-8fc2-8066cd135be2",
   "metadata": {},
   "outputs": [
    {
     "name": "stdout",
     "output_type": "stream",
     "text": [
      "[[0.03888771 0.39418124 0.62300047]\n",
      " [0.73550895 0.34265425 0.45363819]\n",
      " [0.17767372 0.54071325 0.86164931]]\n"
     ]
    }
   ],
   "source": [
    "n6 = np.random.random(9)\n",
    "n6 = n6.reshape([3,3])\n",
    "print(n6)"
   ]
  },
  {
   "cell_type": "code",
   "execution_count": 62,
   "id": "e2d9de07-1210-44ff-8fc6-41a73b621475",
   "metadata": {},
   "outputs": [
    {
     "name": "stdout",
     "output_type": "stream",
     "text": [
      "[0.58670251 0.11378891 0.7409353  0.57161847 0.79666226 0.14149434\n",
      " 0.46620544 0.64143385 0.76480178]\n"
     ]
    }
   ],
   "source": [
    "n6 = np.random.random(9)\n",
    "#n6 = n6.reshape([2,3,4])\n",
    "print(n6)"
   ]
  },
  {
   "cell_type": "code",
   "execution_count": 65,
   "id": "198e09e8-999a-4145-a179-4156ac6ce891",
   "metadata": {},
   "outputs": [
    {
     "name": "stdout",
     "output_type": "stream",
     "text": [
      "[[ 2  3  4]\n",
      " [ 5  6  7]\n",
      " [ 8  9 10]]\n"
     ]
    }
   ],
   "source": [
    "n7 = np.arange(2,11)\n",
    "n7 = n7.reshape([3,3])\n",
    "print(n7)"
   ]
  },
  {
   "cell_type": "code",
   "execution_count": 66,
   "id": "61aae593-6e26-4ad2-8bb1-52acdc88e98c",
   "metadata": {},
   "outputs": [
    {
     "name": "stdout",
     "output_type": "stream",
     "text": [
      "[10 11 12 13 14 15 16 17 18 19 20 21]\n"
     ]
    }
   ],
   "source": [
    "n8 = np.arange(10,22)\n",
    "#n8 = n3.reshape([3,4])\n",
    "print(n8)"
   ]
  },
  {
   "cell_type": "code",
   "execution_count": 67,
   "id": "08a29dea-3e06-474f-86f7-a70f674e0c98",
   "metadata": {},
   "outputs": [
    {
     "name": "stdout",
     "output_type": "stream",
     "text": [
      "[10 20 30 40 50]\n"
     ]
    }
   ],
   "source": [
    "arr10 = np.array([1,2,3,4,5,6])\n",
    "print(arr)"
   ]
  },
  {
   "cell_type": "code",
   "execution_count": 5,
   "id": "1bbdabe7-1c51-48e3-b6a1-7b311add6e1f",
   "metadata": {},
   "outputs": [
    {
     "name": "stdout",
     "output_type": "stream",
     "text": [
      "[10 20 30 40 50 60 70 80 90]\n",
      "<class 'numpy.ndarray'>\n"
     ]
    }
   ],
   "source": [
    "arr = np.array([10,20,30,40,50,60,70,80,90])\n",
    "print(arr)\n",
    "print(type(arr))"
   ]
  },
  {
   "cell_type": "code",
   "execution_count": 4,
   "id": "879999f8-af5b-44a3-a0bd-3710554c8d9a",
   "metadata": {},
   "outputs": [
    {
     "name": "stdout",
     "output_type": "stream",
     "text": [
      "[10 22 30 40 65 34 54]\n",
      "[11 22 23 44 56 34 54]\n",
      "arr1 have greater element\n"
     ]
    }
   ],
   "source": [
    "def index(i):\n",
    "    arr1 = np.array([10,22,30,40,65,34,54])\n",
    "    arr2 = np.array([11,22,23,44,56,34,54])\n",
    "    print(arr1)\n",
    "    print(arr2)\n",
    "    if arr1[i]==arr2[i]:\n",
    "        print(\"both elements are equal\")\n",
    "    elif arr1[i]>=arr2[i]:\n",
    "        print(\"arr1 have greater element\")\n",
    "    elif arr1[i]<=arr[2]:\n",
    "        print(\"arr2 have gteater element\")\n",
    "        \n",
    "index(4)"
   ]
  },
  {
   "cell_type": "code",
   "execution_count": 6,
   "id": "7e939705-5f5d-4659-b816-78603ae21950",
   "metadata": {},
   "outputs": [
    {
     "name": "stdout",
     "output_type": "stream",
     "text": [
      "[[ 2  3  4]\n",
      " [ 5  6  7]\n",
      " [ 8  9 10]]\n"
     ]
    }
   ],
   "source": [
    "arr = np.arange(2,11).reshape(3,3)\n",
    "print(arr)"
   ]
  },
  {
   "cell_type": "code",
   "execution_count": 7,
   "id": "71d75e23-6b02-48b8-a005-6dc4b6ce0b75",
   "metadata": {},
   "outputs": [
    {
     "name": "stdout",
     "output_type": "stream",
     "text": [
      "[12 13 14 15 16 17 18 19 20 21 22 23 24 25 26 27 28 29 30 31 32 33 34 35\n",
      " 36 37]\n"
     ]
    }
   ],
   "source": [
    "arr = np.arange(12,38)\n",
    "print(arr)"
   ]
  },
  {
   "cell_type": "code",
   "execution_count": 8,
   "id": "2ae2f247-fc2c-46c5-9552-8fde3644ccde",
   "metadata": {},
   "outputs": [
    {
     "name": "stdout",
     "output_type": "stream",
     "text": [
      "[50 40 30 20 10]\n"
     ]
    }
   ],
   "source": [
    "arr = np.array([10,20,30,40,50])\n",
    "print(arr[::-1])"
   ]
  },
  {
   "cell_type": "code",
   "execution_count": 9,
   "id": "6ce86d7d-1993-4e76-92bf-48d18d25874e",
   "metadata": {},
   "outputs": [
    {
     "name": "stdout",
     "output_type": "stream",
     "text": [
      "[11. 22. 33. 44.]\n",
      "the data type is float16\n"
     ]
    }
   ],
   "source": [
    "arr = np.array([11,22,33,44],dtype=np.float16)\n",
    "print(arr)\n",
    "print(f\"the data type is {arr.dtype}\")"
   ]
  },
  {
   "cell_type": "code",
   "execution_count": 10,
   "id": "1c45e59f-b88e-4e61-aeba-eedeb8554d75",
   "metadata": {},
   "outputs": [
    {
     "name": "stdout",
     "output_type": "stream",
     "text": [
      "the list is [1, 2, 3, 4, 5, 6, 7, 8, 9]\n",
      "list converted to array is [1 2 3 4 5 6 7 8 9]\n"
     ]
    }
   ],
   "source": [
    "l1 = [1,2,3,4,5,6,7,8,9]\n",
    "print(f\"the list is {l1}\")\n",
    "arr = np.array(l1)\n",
    "print(f\"list converted to array is {arr}\")"
   ]
  },
  {
   "cell_type": "code",
   "execution_count": 11,
   "id": "ddf640a8-43aa-44ab-995d-1a5aaa7a993f",
   "metadata": {},
   "outputs": [
    {
     "name": "stdout",
     "output_type": "stream",
     "text": [
      "[0 0 2 3 2 0]\n"
     ]
    }
   ],
   "source": [
    "arr1 = np.array([10,20,30,45,65,32])\n",
    "arr2 = np.array([2,5,4,6,3,8])\n",
    "print(arr1%arr2)"
   ]
  },
  {
   "cell_type": "code",
   "execution_count": 12,
   "id": "75e88c8d-7aef-4430-8046-1f150876255f",
   "metadata": {},
   "outputs": [
    {
     "name": "stdout",
     "output_type": "stream",
     "text": [
      "[20 21 22 23 24 25 26 27 28 29 30 31 32 33 34 35 36 37 38 39 40 41 42 43\n",
      " 44 45 46 47 48 49]\n",
      "[2 0 1 2 0 1 2 0 1 2 0 1 2 0 1 2 0 1 2 0 1 2 0 1 2 0 1 2 0 1]\n"
     ]
    }
   ],
   "source": [
    "arr = np.arange(20,50)\n",
    "print(arr)\n",
    "arr1 = (arr%3)\n",
    "print(arr1)"
   ]
  },
  {
   "cell_type": "code",
   "execution_count": null,
   "id": "4901f682-6513-46d4-ab99-7d828d1e863f",
   "metadata": {},
   "outputs": [],
   "source": []
  }
 ],
 "metadata": {
  "kernelspec": {
   "display_name": "Python 3 (ipykernel)",
   "language": "python",
   "name": "python3"
  },
  "language_info": {
   "codemirror_mode": {
    "name": "ipython",
    "version": 3
   },
   "file_extension": ".py",
   "mimetype": "text/x-python",
   "name": "python",
   "nbconvert_exporter": "python",
   "pygments_lexer": "ipython3",
   "version": "3.10.12"
  }
 },
 "nbformat": 4,
 "nbformat_minor": 5
}
