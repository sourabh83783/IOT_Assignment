{
 "cells": [
  {
   "cell_type": "code",
   "execution_count": 2,
   "id": "b01b7eb4-a2ef-447e-9877-f64efb909ff7",
   "metadata": {},
   "outputs": [],
   "source": [
    "import pandas as pd\n",
    "import numpy as np"
   ]
  },
  {
   "cell_type": "code",
   "execution_count": 14,
   "id": "3f27adf4-5510-48da-ac3a-db99a0291f0d",
   "metadata": {},
   "outputs": [
    {
     "name": "stdout",
     "output_type": "stream",
     "text": [
      "p_array = \n",
      "<IntegerArray>\n",
      "[1, 2, 3, 4, 5]\n",
      "Length: 5, dtype: Int64 Type = <class 'pandas.core.arrays.integer.IntegerArray'>\n"
     ]
    }
   ],
   "source": [
    "def function1():\n",
    "    p_array = pd.array([1,2,3,4,5])\n",
    "    print(f\"p_array = \\n{p_array} Type = {type(p_array)}\")\n",
    "\n",
    "function1()"
   ]
  },
  {
   "cell_type": "code",
   "execution_count": 13,
   "id": "78478938-6b8b-46fe-ab8a-2aa430ca86ca",
   "metadata": {},
   "outputs": [
    {
     "name": "stdout",
     "output_type": "stream",
     "text": [
      "p_array = \n",
      "[0    1\n",
      "1    2\n",
      "2    3\n",
      "3    4\n",
      "4    5\n",
      "dtype: int64] Type = <class 'list'>\n"
     ]
    }
   ],
   "source": [
    "l1 = []\n",
    "p_array = pd.Series([1,2,3,4,5])\n",
    "l1 = [p_array]\n",
    "print(f\"p_array = \\n{l1} Type = {type(l1)}\")"
   ]
  },
  {
   "cell_type": "code",
   "execution_count": 27,
   "id": "e9df2c41-1b9a-41d3-b4e7-e97fc6967b02",
   "metadata": {},
   "outputs": [
    {
     "name": "stdout",
     "output_type": "stream",
     "text": [
      "Addition : \n",
      "0     7\n",
      "1     9\n",
      "2    11\n",
      "3    13\n",
      "4    15\n",
      "5    17\n",
      "dtype: int64\n",
      "Substraction : \n",
      "0   -5\n",
      "1   -5\n",
      "2   -5\n",
      "3   -5\n",
      "4   -5\n",
      "5   -5\n",
      "dtype: int64\n",
      "Multiplication : \n",
      "0     6\n",
      "1    14\n",
      "2    24\n",
      "3    36\n",
      "4    50\n",
      "5    66\n",
      "dtype: int64\n",
      "Division : \n",
      "0    0.166667\n",
      "1    0.285714\n",
      "2    0.375000\n",
      "3    0.444444\n",
      "4    0.500000\n",
      "5    0.545455\n",
      "dtype: float64\n"
     ]
    }
   ],
   "source": [
    "s1 = pd.Series([1,2,3,4,5,6])\n",
    "s2 = pd.Series([6,7,8,9,10,11])\n",
    "print(\"Addition : \")\n",
    "s = s1+s2\n",
    "print(s)\n",
    "print(\"Substraction : \")\n",
    "s = s1-s2\n",
    "print(s)\n",
    "print(\"Multiplication : \")\n",
    "s = s1*s2\n",
    "print(s)\n",
    "print(\"Division : \")\n",
    "s = s1/s2\n",
    "print(s)\n"
   ]
  },
  {
   "cell_type": "code",
   "execution_count": 33,
   "id": "7400302c-44c5-4521-ad0a-0ff2008c4a8a",
   "metadata": {},
   "outputs": [
    {
     "name": "stdout",
     "output_type": "stream",
     "text": [
      "Name            Sourabh\n",
      "Organization    Sunbeam\n",
      "Cource          PG-DESD\n",
      "dtype: object\n"
     ]
    }
   ],
   "source": [
    "s = [\"Name\", \"Organization\", \"Cource\"]\n",
    "p_series = pd.Series([\"Sourabh\",\"Sunbeam\",\"PG-DESD\"],index = s)\n",
    "print(p_series)"
   ]
  },
  {
   "cell_type": "code",
   "execution_count": 35,
   "id": "96d33dca-1b11-4c4c-94bf-5d6633fc4396",
   "metadata": {},
   "outputs": [
    {
     "name": "stdout",
     "output_type": "stream",
     "text": [
      "0    1\n",
      "1    2\n",
      "2    3\n",
      "3    4\n",
      "4    5\n",
      "dtype: int64\n"
     ]
    }
   ],
   "source": [
    "np = np.array([1,2,3,4,5])\n",
    "pd = pd.Series(np)\n",
    "print(pd)"
   ]
  },
  {
   "cell_type": "code",
   "execution_count": 53,
   "id": "b240b1e6-c9f8-4d41-8c11-1a31e8faab76",
   "metadata": {},
   "outputs": [
    {
     "name": "stdout",
     "output_type": "stream",
     "text": [
      "Dtype = float16\n"
     ]
    }
   ],
   "source": [
    "    #Question : 6\n",
    "    s1 = pd.Series([1,2,3,4,5])\n",
    "    arr= np.array(s1,dtype=np.float16)\n",
    "    print(f\"Dtype = {arr.dtype}\")"
   ]
  },
  {
   "cell_type": "code",
   "execution_count": 55,
   "id": "0f59f82e-5670-42bc-81d5-67f80a0e3b54",
   "metadata": {},
   "outputs": [
    {
     "name": "stdout",
     "output_type": "stream",
     "text": [
      "[1. 2. 3. 4. 5.]\n"
     ]
    }
   ],
   "source": [
    "#Question : 7\n",
    "s1 = pd.Series([1,2,3,4,5])\n",
    "arr= np.array(s1,dtype=np.float16)\n",
    "print(f\"{arr}\")"
   ]
  },
  {
   "cell_type": "code",
   "execution_count": 62,
   "id": "98b9c67c-b1da-4051-b6fc-83bbc2d62394",
   "metadata": {},
   "outputs": [
    {
     "name": "stdout",
     "output_type": "stream",
     "text": [
      "        Name      Org   Cource Degree\n",
      "0    Sourabh  Sunbeam  PG-DESD     BE\n",
      "1     Nikhil  Sunbeam   PG-DMC     BA\n",
      "2  Jittendra  Sunbeam   PG-DAC   ME++\n"
     ]
    }
   ],
   "source": [
    "#Question : 8\n",
    "p1 = ({\"Name\":\"Sourabh\",\"Org\":\"Sunbeam\",\"Cource\":\"PG-DESD\",\"Degree\":\"BE\"})\n",
    "p2 = ({\"Name\":\"Nikhil\",\"Org\":\"Sunbeam\",\"Cource\":\"PG-DMC\",\"Degree\":\"BA\"})\n",
    "p3 = ({\"Name\":\"Jittendra\",\"Org\":\"Sunbeam\",\"Cource\":\"PG-DAC\",\"Degree\":\"ME++\"})\n",
    "\n",
    "s1 = pd.Series(p1)\n",
    "s2 = pd.Series(p2)\n",
    "s3 = pd.Series(p3)\n",
    "student = pd.DataFrame([s1,s2,s3])\n",
    "print(student)\n"
   ]
  },
  {
   "cell_type": "code",
   "execution_count": 20,
   "id": "ce1601e9-a289-4759-af59-4f25c4cc1bf2",
   "metadata": {},
   "outputs": [
    {
     "name": "stdout",
     "output_type": "stream",
     "text": [
      "Type = <class 'list'>\n",
      "  EMPId       Name Organization   Cource\n",
      "0   101    Sourabh      Sunbeam  PG-DESD\n",
      "1   102     Nikhil      Sunbeam   PG-DMC\n",
      "2   103  Jittendra      Sunbeam   PG-DAC\n",
      "3   104   Priyansh      Sunbeam  PG-DESD\n",
      "4   105     Kartik      Sunbeam   PG-DMC\n",
      "5   106     Snehal      Sunbeam   PG-DAC\n",
      "6   107     Muskan      Sunbeam  PG-DESD\n",
      "7   108     Bharat      Sunbeam   PG-DMC\n",
      "8   109      Divya      Sunbeam   PG-DAC\n",
      "9   110    Atharva      Sunbeam   PG-DMC\n"
     ]
    }
   ],
   "source": [
    "#Question : 9\n",
    "l1 = [\"EMPId\",\"Name\", \"Organization\", \"Cource\"]\n",
    "p1 = pd.Series([\"101\",\"Sourabh\",\"Sunbeam\",\"PG-DESD\"],index = l1)\n",
    "p2 = pd.Series([\"102\",\"Nikhil\",\"Sunbeam\",\"PG-DMC\"],index = l1)\n",
    "p3 = pd.Series([\"103\",\"Jittendra\",\"Sunbeam\",\"PG-DAC\"],index = l1)\n",
    "p4 = pd.Series([\"104\",\"Priyansh\",\"Sunbeam\",\"PG-DESD\"],index = l1)\n",
    "p5 = pd.Series([\"105\",\"Kartik\",\"Sunbeam\",\"PG-DMC\"],index = l1)\n",
    "p6 = pd.Series([\"106\",\"Snehal\",\"Sunbeam\",\"PG-DAC\"],index = l1)\n",
    "p7 = pd.Series([\"107\",\"Muskan\",\"Sunbeam\",\"PG-DESD\"],index = l1)\n",
    "p8 = pd.Series([\"108\",\"Bharat\",\"Sunbeam\",\"PG-DMC\"],index = l1)\n",
    "p9 = pd.Series([\"109\",\"Divya\",\"Sunbeam\",\"PG-DAC\"],index = l1)\n",
    "p10 = pd.Series([\"110\",\"Atharva\",\"Sunbeam\",\"PG-DMC\"],index = l1)\n",
    "\n",
    "print(f\"Type = {type(l1)}\")\n",
    "\n",
    "Employee = pd.DataFrame([p1,p2,p3,p4,p5,p6,p7,p8,p9,p10])\n",
    "\n",
    "print(Employee)\n"
   ]
  },
  {
   "cell_type": "code",
   "execution_count": 9,
   "id": "818153cb-6819-406b-b8b2-f1e3981b6475",
   "metadata": {},
   "outputs": [
    {
     "data": {
      "text/html": [
       "<div>\n",
       "<style scoped>\n",
       "    .dataframe tbody tr th:only-of-type {\n",
       "        vertical-align: middle;\n",
       "    }\n",
       "\n",
       "    .dataframe tbody tr th {\n",
       "        vertical-align: top;\n",
       "    }\n",
       "\n",
       "    .dataframe thead th {\n",
       "        text-align: right;\n",
       "    }\n",
       "</style>\n",
       "<table border=\"1\" class=\"dataframe\">\n",
       "  <thead>\n",
       "    <tr style=\"text-align: right;\">\n",
       "      <th></th>\n",
       "      <th>EMPId</th>\n",
       "      <th>Name</th>\n",
       "      <th>Organization</th>\n",
       "      <th>Cource</th>\n",
       "    </tr>\n",
       "  </thead>\n",
       "  <tbody>\n",
       "    <tr>\n",
       "      <th>0</th>\n",
       "      <td>101</td>\n",
       "      <td>Sourabh</td>\n",
       "      <td>Sunbeam</td>\n",
       "      <td>PG-DESD</td>\n",
       "    </tr>\n",
       "    <tr>\n",
       "      <th>1</th>\n",
       "      <td>102</td>\n",
       "      <td>Nikhil</td>\n",
       "      <td>Sunbeam</td>\n",
       "      <td>PG-DMC</td>\n",
       "    </tr>\n",
       "    <tr>\n",
       "      <th>2</th>\n",
       "      <td>103</td>\n",
       "      <td>Jittendra</td>\n",
       "      <td>Sunbeam</td>\n",
       "      <td>PG-DAC</td>\n",
       "    </tr>\n",
       "    <tr>\n",
       "      <th>3</th>\n",
       "      <td>104</td>\n",
       "      <td>Priyansh</td>\n",
       "      <td>Sunbeam</td>\n",
       "      <td>PG-DESD</td>\n",
       "    </tr>\n",
       "    <tr>\n",
       "      <th>4</th>\n",
       "      <td>105</td>\n",
       "      <td>Kartik</td>\n",
       "      <td>Sunbeam</td>\n",
       "      <td>PG-DMC</td>\n",
       "    </tr>\n",
       "  </tbody>\n",
       "</table>\n",
       "</div>"
      ],
      "text/plain": [
       "  EMPId       Name Organization   Cource\n",
       "0   101    Sourabh      Sunbeam  PG-DESD\n",
       "1   102     Nikhil      Sunbeam   PG-DMC\n",
       "2   103  Jittendra      Sunbeam   PG-DAC\n",
       "3   104   Priyansh      Sunbeam  PG-DESD\n",
       "4   105     Kartik      Sunbeam   PG-DMC"
      ]
     },
     "execution_count": 9,
     "metadata": {},
     "output_type": "execute_result"
    }
   ],
   "source": [
    "Employee.head()"
   ]
  },
  {
   "cell_type": "code",
   "execution_count": 10,
   "id": "5632f30d-4c2a-494b-a3c6-c750931abf62",
   "metadata": {},
   "outputs": [
    {
     "data": {
      "text/html": [
       "<div>\n",
       "<style scoped>\n",
       "    .dataframe tbody tr th:only-of-type {\n",
       "        vertical-align: middle;\n",
       "    }\n",
       "\n",
       "    .dataframe tbody tr th {\n",
       "        vertical-align: top;\n",
       "    }\n",
       "\n",
       "    .dataframe thead th {\n",
       "        text-align: right;\n",
       "    }\n",
       "</style>\n",
       "<table border=\"1\" class=\"dataframe\">\n",
       "  <thead>\n",
       "    <tr style=\"text-align: right;\">\n",
       "      <th></th>\n",
       "      <th>EMPId</th>\n",
       "      <th>Name</th>\n",
       "      <th>Organization</th>\n",
       "      <th>Cource</th>\n",
       "    </tr>\n",
       "  </thead>\n",
       "  <tbody>\n",
       "    <tr>\n",
       "      <th>5</th>\n",
       "      <td>106</td>\n",
       "      <td>Snehal</td>\n",
       "      <td>Sunbeam</td>\n",
       "      <td>PG-DAC</td>\n",
       "    </tr>\n",
       "    <tr>\n",
       "      <th>6</th>\n",
       "      <td>107</td>\n",
       "      <td>Muskan</td>\n",
       "      <td>Sunbeam</td>\n",
       "      <td>PG-DESD</td>\n",
       "    </tr>\n",
       "    <tr>\n",
       "      <th>7</th>\n",
       "      <td>108</td>\n",
       "      <td>Bharat</td>\n",
       "      <td>Sunbeam</td>\n",
       "      <td>PG-DMC</td>\n",
       "    </tr>\n",
       "    <tr>\n",
       "      <th>8</th>\n",
       "      <td>109</td>\n",
       "      <td>Divya</td>\n",
       "      <td>Sunbeam</td>\n",
       "      <td>PG-DAC</td>\n",
       "    </tr>\n",
       "    <tr>\n",
       "      <th>9</th>\n",
       "      <td>110</td>\n",
       "      <td>Atharva</td>\n",
       "      <td>Sunbeam</td>\n",
       "      <td>PG-DMC</td>\n",
       "    </tr>\n",
       "  </tbody>\n",
       "</table>\n",
       "</div>"
      ],
      "text/plain": [
       "  EMPId     Name Organization   Cource\n",
       "5   106   Snehal      Sunbeam   PG-DAC\n",
       "6   107   Muskan      Sunbeam  PG-DESD\n",
       "7   108   Bharat      Sunbeam   PG-DMC\n",
       "8   109    Divya      Sunbeam   PG-DAC\n",
       "9   110  Atharva      Sunbeam   PG-DMC"
      ]
     },
     "execution_count": 10,
     "metadata": {},
     "output_type": "execute_result"
    }
   ],
   "source": [
    "Employee.tail()\n"
   ]
  },
  {
   "cell_type": "code",
   "execution_count": 11,
   "id": "eab9f14c-aa47-452d-925a-33ea9910d10a",
   "metadata": {},
   "outputs": [
    {
     "name": "stdout",
     "output_type": "stream",
     "text": [
      "First Two records\n"
     ]
    },
    {
     "data": {
      "text/html": [
       "<div>\n",
       "<style scoped>\n",
       "    .dataframe tbody tr th:only-of-type {\n",
       "        vertical-align: middle;\n",
       "    }\n",
       "\n",
       "    .dataframe tbody tr th {\n",
       "        vertical-align: top;\n",
       "    }\n",
       "\n",
       "    .dataframe thead th {\n",
       "        text-align: right;\n",
       "    }\n",
       "</style>\n",
       "<table border=\"1\" class=\"dataframe\">\n",
       "  <thead>\n",
       "    <tr style=\"text-align: right;\">\n",
       "      <th></th>\n",
       "      <th>EMPId</th>\n",
       "      <th>Name</th>\n",
       "      <th>Organization</th>\n",
       "      <th>Cource</th>\n",
       "    </tr>\n",
       "  </thead>\n",
       "  <tbody>\n",
       "    <tr>\n",
       "      <th>0</th>\n",
       "      <td>101</td>\n",
       "      <td>Sourabh</td>\n",
       "      <td>Sunbeam</td>\n",
       "      <td>PG-DESD</td>\n",
       "    </tr>\n",
       "    <tr>\n",
       "      <th>1</th>\n",
       "      <td>102</td>\n",
       "      <td>Nikhil</td>\n",
       "      <td>Sunbeam</td>\n",
       "      <td>PG-DMC</td>\n",
       "    </tr>\n",
       "  </tbody>\n",
       "</table>\n",
       "</div>"
      ],
      "text/plain": [
       "  EMPId     Name Organization   Cource\n",
       "0   101  Sourabh      Sunbeam  PG-DESD\n",
       "1   102   Nikhil      Sunbeam   PG-DMC"
      ]
     },
     "execution_count": 11,
     "metadata": {},
     "output_type": "execute_result"
    }
   ],
   "source": [
    "\n",
    "    print(\"First Two records\")\n",
    "    Employee.head(2)\n"
   ]
  },
  {
   "cell_type": "code",
   "execution_count": 12,
   "id": "3561ad05-b22c-48ac-9b2c-ab0ad560c7ac",
   "metadata": {},
   "outputs": [
    {
     "name": "stdout",
     "output_type": "stream",
     "text": [
      "Last Two records\n"
     ]
    },
    {
     "data": {
      "text/html": [
       "<div>\n",
       "<style scoped>\n",
       "    .dataframe tbody tr th:only-of-type {\n",
       "        vertical-align: middle;\n",
       "    }\n",
       "\n",
       "    .dataframe tbody tr th {\n",
       "        vertical-align: top;\n",
       "    }\n",
       "\n",
       "    .dataframe thead th {\n",
       "        text-align: right;\n",
       "    }\n",
       "</style>\n",
       "<table border=\"1\" class=\"dataframe\">\n",
       "  <thead>\n",
       "    <tr style=\"text-align: right;\">\n",
       "      <th></th>\n",
       "      <th>EMPId</th>\n",
       "      <th>Name</th>\n",
       "      <th>Organization</th>\n",
       "      <th>Cource</th>\n",
       "    </tr>\n",
       "  </thead>\n",
       "  <tbody>\n",
       "    <tr>\n",
       "      <th>8</th>\n",
       "      <td>109</td>\n",
       "      <td>Divya</td>\n",
       "      <td>Sunbeam</td>\n",
       "      <td>PG-DAC</td>\n",
       "    </tr>\n",
       "    <tr>\n",
       "      <th>9</th>\n",
       "      <td>110</td>\n",
       "      <td>Atharva</td>\n",
       "      <td>Sunbeam</td>\n",
       "      <td>PG-DMC</td>\n",
       "    </tr>\n",
       "  </tbody>\n",
       "</table>\n",
       "</div>"
      ],
      "text/plain": [
       "  EMPId     Name Organization  Cource\n",
       "8   109    Divya      Sunbeam  PG-DAC\n",
       "9   110  Atharva      Sunbeam  PG-DMC"
      ]
     },
     "execution_count": 12,
     "metadata": {},
     "output_type": "execute_result"
    }
   ],
   "source": [
    "    print(\"Last Two records\")\n",
    "    Employee.tail(2)"
   ]
  },
  {
   "cell_type": "code",
   "execution_count": 13,
   "id": "587714b7-f065-410f-9950-ecafa06af24f",
   "metadata": {},
   "outputs": [
    {
     "data": {
      "text/plain": [
       "EMPId               105\n",
       "Name             Kartik\n",
       "Organization    Sunbeam\n",
       "Cource           PG-DMC\n",
       "Name: 4, dtype: object"
      ]
     },
     "execution_count": 13,
     "metadata": {},
     "output_type": "execute_result"
    }
   ],
   "source": [
    "Employee.iloc[4]"
   ]
  },
  {
   "cell_type": "code",
   "execution_count": 14,
   "id": "97d6e876-8c5a-4579-87cc-7de6b740bb61",
   "metadata": {},
   "outputs": [
    {
     "data": {
      "text/plain": [
       "EMPId                104\n",
       "Name            Priyansh\n",
       "Organization     Sunbeam\n",
       "Cource           PG-DESD\n",
       "Name: 3, dtype: object"
      ]
     },
     "execution_count": 14,
     "metadata": {},
     "output_type": "execute_result"
    }
   ],
   "source": [
    "Employee.iloc[3]"
   ]
  },
  {
   "cell_type": "code",
   "execution_count": 15,
   "id": "a732bda0-3fe3-47de-89da-4b3f6e810468",
   "metadata": {},
   "outputs": [],
   "source": [
    "Employee.to_csv('Employee')"
   ]
  },
  {
   "cell_type": "code",
   "execution_count": 17,
   "id": "d22b0cd9-7c19-426c-8da8-9796bb582f20",
   "metadata": {},
   "outputs": [
    {
     "data": {
      "text/html": [
       "<div>\n",
       "<style scoped>\n",
       "    .dataframe tbody tr th:only-of-type {\n",
       "        vertical-align: middle;\n",
       "    }\n",
       "\n",
       "    .dataframe tbody tr th {\n",
       "        vertical-align: top;\n",
       "    }\n",
       "\n",
       "    .dataframe thead th {\n",
       "        text-align: right;\n",
       "    }\n",
       "</style>\n",
       "<table border=\"1\" class=\"dataframe\">\n",
       "  <thead>\n",
       "    <tr style=\"text-align: right;\">\n",
       "      <th></th>\n",
       "      <th>Unnamed: 0</th>\n",
       "      <th>EMPId</th>\n",
       "      <th>Name</th>\n",
       "      <th>Organization</th>\n",
       "      <th>Cource</th>\n",
       "    </tr>\n",
       "  </thead>\n",
       "  <tbody>\n",
       "    <tr>\n",
       "      <th>0</th>\n",
       "      <td>0</td>\n",
       "      <td>101</td>\n",
       "      <td>Sourabh</td>\n",
       "      <td>Sunbeam</td>\n",
       "      <td>PG-DESD</td>\n",
       "    </tr>\n",
       "    <tr>\n",
       "      <th>1</th>\n",
       "      <td>1</td>\n",
       "      <td>102</td>\n",
       "      <td>Nikhil</td>\n",
       "      <td>Sunbeam</td>\n",
       "      <td>PG-DMC</td>\n",
       "    </tr>\n",
       "    <tr>\n",
       "      <th>2</th>\n",
       "      <td>2</td>\n",
       "      <td>103</td>\n",
       "      <td>Jittendra</td>\n",
       "      <td>Sunbeam</td>\n",
       "      <td>PG-DAC</td>\n",
       "    </tr>\n",
       "    <tr>\n",
       "      <th>3</th>\n",
       "      <td>3</td>\n",
       "      <td>104</td>\n",
       "      <td>Priyansh</td>\n",
       "      <td>Sunbeam</td>\n",
       "      <td>PG-DESD</td>\n",
       "    </tr>\n",
       "    <tr>\n",
       "      <th>4</th>\n",
       "      <td>4</td>\n",
       "      <td>105</td>\n",
       "      <td>Kartik</td>\n",
       "      <td>Sunbeam</td>\n",
       "      <td>PG-DMC</td>\n",
       "    </tr>\n",
       "    <tr>\n",
       "      <th>5</th>\n",
       "      <td>5</td>\n",
       "      <td>106</td>\n",
       "      <td>Snehal</td>\n",
       "      <td>Sunbeam</td>\n",
       "      <td>PG-DAC</td>\n",
       "    </tr>\n",
       "    <tr>\n",
       "      <th>6</th>\n",
       "      <td>6</td>\n",
       "      <td>107</td>\n",
       "      <td>Muskan</td>\n",
       "      <td>Sunbeam</td>\n",
       "      <td>PG-DESD</td>\n",
       "    </tr>\n",
       "    <tr>\n",
       "      <th>7</th>\n",
       "      <td>7</td>\n",
       "      <td>108</td>\n",
       "      <td>Bharat</td>\n",
       "      <td>Sunbeam</td>\n",
       "      <td>PG-DMC</td>\n",
       "    </tr>\n",
       "    <tr>\n",
       "      <th>8</th>\n",
       "      <td>8</td>\n",
       "      <td>109</td>\n",
       "      <td>Divya</td>\n",
       "      <td>Sunbeam</td>\n",
       "      <td>PG-DAC</td>\n",
       "    </tr>\n",
       "    <tr>\n",
       "      <th>9</th>\n",
       "      <td>9</td>\n",
       "      <td>110</td>\n",
       "      <td>Atharva</td>\n",
       "      <td>Sunbeam</td>\n",
       "      <td>PG-DMC</td>\n",
       "    </tr>\n",
       "  </tbody>\n",
       "</table>\n",
       "</div>"
      ],
      "text/plain": [
       "   Unnamed: 0  EMPId       Name Organization   Cource\n",
       "0           0    101    Sourabh      Sunbeam  PG-DESD\n",
       "1           1    102     Nikhil      Sunbeam   PG-DMC\n",
       "2           2    103  Jittendra      Sunbeam   PG-DAC\n",
       "3           3    104   Priyansh      Sunbeam  PG-DESD\n",
       "4           4    105     Kartik      Sunbeam   PG-DMC\n",
       "5           5    106     Snehal      Sunbeam   PG-DAC\n",
       "6           6    107     Muskan      Sunbeam  PG-DESD\n",
       "7           7    108     Bharat      Sunbeam   PG-DMC\n",
       "8           8    109      Divya      Sunbeam   PG-DAC\n",
       "9           9    110    Atharva      Sunbeam   PG-DMC"
      ]
     },
     "execution_count": 17,
     "metadata": {},
     "output_type": "execute_result"
    }
   ],
   "source": [
    "#Question 10 A\n",
    "pd.read_csv('Employee')"
   ]
  },
  {
   "cell_type": "code",
   "execution_count": 22,
   "id": "4ec3e69d-2b6c-46f6-8626-8d51b7b244b4",
   "metadata": {},
   "outputs": [
    {
     "name": "stdout",
     "output_type": "stream",
     "text": [
      "  EMPId       Name Organization   Cource  Salary\n",
      "0   101    Sourabh      Sunbeam  PG-DESD    1000\n",
      "1   102     Nikhil      Sunbeam   PG-DMC    2000\n",
      "2   103  Jittendra      Sunbeam   PG-DAC    3000\n",
      "3   104   Priyansh      Sunbeam  PG-DESD    4000\n",
      "4   105     Kartik      Sunbeam   PG-DMC    5000\n",
      "5   106     Snehal      Sunbeam   PG-DAC    6000\n",
      "6   107     Muskan      Sunbeam  PG-DESD    7000\n",
      "7   108     Bharat      Sunbeam   PG-DMC    8000\n",
      "8   109      Divya      Sunbeam   PG-DAC    9000\n",
      "9   110    Atharva      Sunbeam   PG-DMC   10000\n"
     ]
    }
   ],
   "source": [
    "#Question 10 B\n",
    "Employee['Salary']=[1000,2000,3000,4000,5000,6000,7000,8000,9000,10000]\n",
    "print(Employee)"
   ]
  },
  {
   "cell_type": "code",
   "execution_count": 23,
   "id": "6f0f973e-d794-438d-bfcd-cf0a0aee040c",
   "metadata": {},
   "outputs": [
    {
     "name": "stdout",
     "output_type": "stream",
     "text": [
      "Index(['EMPId', 'Name', 'Organization', 'Cource', 'Salary'], dtype='object')\n"
     ]
    }
   ],
   "source": [
    "print(Employee.columns)"
   ]
  },
  {
   "cell_type": "code",
   "execution_count": 37,
   "id": "7784f231-756b-4292-90ec-94cb15d98ce3",
   "metadata": {},
   "outputs": [],
   "source": [
    "#Question 11\n",
    "#i\n",
    "df = pd.read_csv('Advertising.csv')"
   ]
  },
  {
   "cell_type": "code",
   "execution_count": 38,
   "id": "09a10295-8175-4528-962d-281ad0683a2d",
   "metadata": {},
   "outputs": [
    {
     "data": {
      "text/html": [
       "<div>\n",
       "<style scoped>\n",
       "    .dataframe tbody tr th:only-of-type {\n",
       "        vertical-align: middle;\n",
       "    }\n",
       "\n",
       "    .dataframe tbody tr th {\n",
       "        vertical-align: top;\n",
       "    }\n",
       "\n",
       "    .dataframe thead th {\n",
       "        text-align: right;\n",
       "    }\n",
       "</style>\n",
       "<table border=\"1\" class=\"dataframe\">\n",
       "  <thead>\n",
       "    <tr style=\"text-align: right;\">\n",
       "      <th></th>\n",
       "      <th>TV</th>\n",
       "      <th>radio</th>\n",
       "      <th>newspaper</th>\n",
       "      <th>sales</th>\n",
       "    </tr>\n",
       "  </thead>\n",
       "  <tbody>\n",
       "    <tr>\n",
       "      <th>0</th>\n",
       "      <td>230.1</td>\n",
       "      <td>37.8</td>\n",
       "      <td>69.2</td>\n",
       "      <td>22.1</td>\n",
       "    </tr>\n",
       "    <tr>\n",
       "      <th>1</th>\n",
       "      <td>44.5</td>\n",
       "      <td>39.3</td>\n",
       "      <td>45.1</td>\n",
       "      <td>10.4</td>\n",
       "    </tr>\n",
       "    <tr>\n",
       "      <th>2</th>\n",
       "      <td>17.2</td>\n",
       "      <td>45.9</td>\n",
       "      <td>69.3</td>\n",
       "      <td>9.3</td>\n",
       "    </tr>\n",
       "    <tr>\n",
       "      <th>3</th>\n",
       "      <td>151.5</td>\n",
       "      <td>41.3</td>\n",
       "      <td>58.5</td>\n",
       "      <td>18.5</td>\n",
       "    </tr>\n",
       "    <tr>\n",
       "      <th>4</th>\n",
       "      <td>180.8</td>\n",
       "      <td>10.8</td>\n",
       "      <td>58.4</td>\n",
       "      <td>12.9</td>\n",
       "    </tr>\n",
       "  </tbody>\n",
       "</table>\n",
       "</div>"
      ],
      "text/plain": [
       "      TV  radio  newspaper  sales\n",
       "0  230.1   37.8       69.2   22.1\n",
       "1   44.5   39.3       45.1   10.4\n",
       "2   17.2   45.9       69.3    9.3\n",
       "3  151.5   41.3       58.5   18.5\n",
       "4  180.8   10.8       58.4   12.9"
      ]
     },
     "execution_count": 38,
     "metadata": {},
     "output_type": "execute_result"
    }
   ],
   "source": [
    "# ii\n",
    "df.head()"
   ]
  },
  {
   "cell_type": "code",
   "execution_count": 39,
   "id": "2c757d48-7d79-4ae1-bb4a-9e8f23c3b854",
   "metadata": {},
   "outputs": [
    {
     "data": {
      "text/html": [
       "<div>\n",
       "<style scoped>\n",
       "    .dataframe tbody tr th:only-of-type {\n",
       "        vertical-align: middle;\n",
       "    }\n",
       "\n",
       "    .dataframe tbody tr th {\n",
       "        vertical-align: top;\n",
       "    }\n",
       "\n",
       "    .dataframe thead th {\n",
       "        text-align: right;\n",
       "    }\n",
       "</style>\n",
       "<table border=\"1\" class=\"dataframe\">\n",
       "  <thead>\n",
       "    <tr style=\"text-align: right;\">\n",
       "      <th></th>\n",
       "      <th>TV</th>\n",
       "      <th>radio</th>\n",
       "      <th>newspaper</th>\n",
       "      <th>sales</th>\n",
       "    </tr>\n",
       "  </thead>\n",
       "  <tbody>\n",
       "    <tr>\n",
       "      <th>195</th>\n",
       "      <td>38.2</td>\n",
       "      <td>3.7</td>\n",
       "      <td>13.8</td>\n",
       "      <td>7.6</td>\n",
       "    </tr>\n",
       "    <tr>\n",
       "      <th>196</th>\n",
       "      <td>94.2</td>\n",
       "      <td>4.9</td>\n",
       "      <td>8.1</td>\n",
       "      <td>9.7</td>\n",
       "    </tr>\n",
       "    <tr>\n",
       "      <th>197</th>\n",
       "      <td>177.0</td>\n",
       "      <td>9.3</td>\n",
       "      <td>6.4</td>\n",
       "      <td>12.8</td>\n",
       "    </tr>\n",
       "    <tr>\n",
       "      <th>198</th>\n",
       "      <td>283.6</td>\n",
       "      <td>42.0</td>\n",
       "      <td>66.2</td>\n",
       "      <td>25.5</td>\n",
       "    </tr>\n",
       "    <tr>\n",
       "      <th>199</th>\n",
       "      <td>232.1</td>\n",
       "      <td>8.6</td>\n",
       "      <td>8.7</td>\n",
       "      <td>13.4</td>\n",
       "    </tr>\n",
       "  </tbody>\n",
       "</table>\n",
       "</div>"
      ],
      "text/plain": [
       "        TV  radio  newspaper  sales\n",
       "195   38.2    3.7       13.8    7.6\n",
       "196   94.2    4.9        8.1    9.7\n",
       "197  177.0    9.3        6.4   12.8\n",
       "198  283.6   42.0       66.2   25.5\n",
       "199  232.1    8.6        8.7   13.4"
      ]
     },
     "execution_count": 39,
     "metadata": {},
     "output_type": "execute_result"
    }
   ],
   "source": [
    "#iii\n",
    "df.tail()"
   ]
  },
  {
   "cell_type": "code",
   "execution_count": 40,
   "id": "f5e48a64-1a35-4c29-80e7-fcad8de6ac33",
   "metadata": {},
   "outputs": [
    {
     "data": {
      "text/plain": [
       "Index(['TV', 'radio', 'newspaper', 'sales'], dtype='object')"
      ]
     },
     "execution_count": 40,
     "metadata": {},
     "output_type": "execute_result"
    }
   ],
   "source": [
    "#iv\n",
    "df.columns"
   ]
  },
  {
   "cell_type": "code",
   "execution_count": 41,
   "id": "d9eb6225-7fd2-4f8a-85dd-9d738004b752",
   "metadata": {},
   "outputs": [
    {
     "data": {
      "text/html": [
       "<div>\n",
       "<style scoped>\n",
       "    .dataframe tbody tr th:only-of-type {\n",
       "        vertical-align: middle;\n",
       "    }\n",
       "\n",
       "    .dataframe tbody tr th {\n",
       "        vertical-align: top;\n",
       "    }\n",
       "\n",
       "    .dataframe thead th {\n",
       "        text-align: right;\n",
       "    }\n",
       "</style>\n",
       "<table border=\"1\" class=\"dataframe\">\n",
       "  <thead>\n",
       "    <tr style=\"text-align: right;\">\n",
       "      <th></th>\n",
       "      <th>TV</th>\n",
       "      <th>radio</th>\n",
       "      <th>newspaper</th>\n",
       "      <th>sales</th>\n",
       "    </tr>\n",
       "  </thead>\n",
       "  <tbody>\n",
       "    <tr>\n",
       "      <th>197</th>\n",
       "      <td>177.0</td>\n",
       "      <td>9.3</td>\n",
       "      <td>6.4</td>\n",
       "      <td>12.8</td>\n",
       "    </tr>\n",
       "    <tr>\n",
       "      <th>198</th>\n",
       "      <td>283.6</td>\n",
       "      <td>42.0</td>\n",
       "      <td>66.2</td>\n",
       "      <td>25.5</td>\n",
       "    </tr>\n",
       "    <tr>\n",
       "      <th>199</th>\n",
       "      <td>232.1</td>\n",
       "      <td>8.6</td>\n",
       "      <td>8.7</td>\n",
       "      <td>13.4</td>\n",
       "    </tr>\n",
       "  </tbody>\n",
       "</table>\n",
       "</div>"
      ],
      "text/plain": [
       "        TV  radio  newspaper  sales\n",
       "197  177.0    9.3        6.4   12.8\n",
       "198  283.6   42.0       66.2   25.5\n",
       "199  232.1    8.6        8.7   13.4"
      ]
     },
     "execution_count": 41,
     "metadata": {},
     "output_type": "execute_result"
    }
   ],
   "source": [
    "#v\n",
    "df.tail(3)"
   ]
  },
  {
   "cell_type": "code",
   "execution_count": 42,
   "id": "ba5a7af7-bc9a-4556-8444-36a02b4e802e",
   "metadata": {},
   "outputs": [
    {
     "name": "stdout",
     "output_type": "stream",
     "text": [
      "<class 'pandas.core.frame.DataFrame'>\n",
      "RangeIndex: 200 entries, 0 to 199\n",
      "Data columns (total 4 columns):\n",
      " #   Column     Non-Null Count  Dtype  \n",
      "---  ------     --------------  -----  \n",
      " 0   TV         200 non-null    float64\n",
      " 1   radio      200 non-null    float64\n",
      " 2   newspaper  200 non-null    float64\n",
      " 3   sales      200 non-null    float64\n",
      "dtypes: float64(4)\n",
      "memory usage: 6.4 KB\n"
     ]
    }
   ],
   "source": [
    "#vi\n",
    "df.info()"
   ]
  },
  {
   "cell_type": "code",
   "execution_count": 43,
   "id": "382f2467-ea8a-4951-9d56-2cac4c4b84ca",
   "metadata": {},
   "outputs": [
    {
     "data": {
      "text/html": [
       "<div>\n",
       "<style scoped>\n",
       "    .dataframe tbody tr th:only-of-type {\n",
       "        vertical-align: middle;\n",
       "    }\n",
       "\n",
       "    .dataframe tbody tr th {\n",
       "        vertical-align: top;\n",
       "    }\n",
       "\n",
       "    .dataframe thead th {\n",
       "        text-align: right;\n",
       "    }\n",
       "</style>\n",
       "<table border=\"1\" class=\"dataframe\">\n",
       "  <thead>\n",
       "    <tr style=\"text-align: right;\">\n",
       "      <th></th>\n",
       "      <th>TV</th>\n",
       "      <th>radio</th>\n",
       "      <th>newspaper</th>\n",
       "      <th>sales</th>\n",
       "    </tr>\n",
       "  </thead>\n",
       "  <tbody>\n",
       "    <tr>\n",
       "      <th>count</th>\n",
       "      <td>200.000000</td>\n",
       "      <td>200.000000</td>\n",
       "      <td>200.000000</td>\n",
       "      <td>200.000000</td>\n",
       "    </tr>\n",
       "    <tr>\n",
       "      <th>mean</th>\n",
       "      <td>147.042500</td>\n",
       "      <td>23.264000</td>\n",
       "      <td>30.554000</td>\n",
       "      <td>14.022500</td>\n",
       "    </tr>\n",
       "    <tr>\n",
       "      <th>std</th>\n",
       "      <td>85.854236</td>\n",
       "      <td>14.846809</td>\n",
       "      <td>21.778621</td>\n",
       "      <td>5.217457</td>\n",
       "    </tr>\n",
       "    <tr>\n",
       "      <th>min</th>\n",
       "      <td>0.700000</td>\n",
       "      <td>0.000000</td>\n",
       "      <td>0.300000</td>\n",
       "      <td>1.600000</td>\n",
       "    </tr>\n",
       "    <tr>\n",
       "      <th>25%</th>\n",
       "      <td>74.375000</td>\n",
       "      <td>9.975000</td>\n",
       "      <td>12.750000</td>\n",
       "      <td>10.375000</td>\n",
       "    </tr>\n",
       "    <tr>\n",
       "      <th>50%</th>\n",
       "      <td>149.750000</td>\n",
       "      <td>22.900000</td>\n",
       "      <td>25.750000</td>\n",
       "      <td>12.900000</td>\n",
       "    </tr>\n",
       "    <tr>\n",
       "      <th>75%</th>\n",
       "      <td>218.825000</td>\n",
       "      <td>36.525000</td>\n",
       "      <td>45.100000</td>\n",
       "      <td>17.400000</td>\n",
       "    </tr>\n",
       "    <tr>\n",
       "      <th>max</th>\n",
       "      <td>296.400000</td>\n",
       "      <td>49.600000</td>\n",
       "      <td>114.000000</td>\n",
       "      <td>27.000000</td>\n",
       "    </tr>\n",
       "  </tbody>\n",
       "</table>\n",
       "</div>"
      ],
      "text/plain": [
       "               TV       radio   newspaper       sales\n",
       "count  200.000000  200.000000  200.000000  200.000000\n",
       "mean   147.042500   23.264000   30.554000   14.022500\n",
       "std     85.854236   14.846809   21.778621    5.217457\n",
       "min      0.700000    0.000000    0.300000    1.600000\n",
       "25%     74.375000    9.975000   12.750000   10.375000\n",
       "50%    149.750000   22.900000   25.750000   12.900000\n",
       "75%    218.825000   36.525000   45.100000   17.400000\n",
       "max    296.400000   49.600000  114.000000   27.000000"
      ]
     },
     "execution_count": 43,
     "metadata": {},
     "output_type": "execute_result"
    }
   ],
   "source": [
    "#xii and xiii\n",
    "df.describe()"
   ]
  },
  {
   "cell_type": "code",
   "execution_count": 62,
   "id": "3cead510-6809-463a-ab78-858966534a39",
   "metadata": {},
   "outputs": [
    {
     "data": {
      "text/plain": [
       "(200, 5)"
      ]
     },
     "execution_count": 62,
     "metadata": {},
     "output_type": "execute_result"
    }
   ],
   "source": [
    "df.shape"
   ]
  },
  {
   "cell_type": "code",
   "execution_count": 45,
   "id": "39c82851-7e2f-4367-8c76-43639b5c4393",
   "metadata": {},
   "outputs": [
    {
     "data": {
      "text/plain": [
       "(200, 4)"
      ]
     },
     "execution_count": 45,
     "metadata": {},
     "output_type": "execute_result"
    }
   ],
   "source": [
    "#xi\n",
    "df.shape"
   ]
  },
  {
   "cell_type": "code",
   "execution_count": 48,
   "id": "f32be042-e6c5-484c-80ab-6c346a0d5704",
   "metadata": {},
   "outputs": [
    {
     "name": "stdout",
     "output_type": "stream",
     "text": [
      "        TV  radio  newspaper  sales  updated_sales\n",
      "0    230.1   37.8       69.2   22.1          24.31\n",
      "1     44.5   39.3       45.1   10.4          11.44\n",
      "2     17.2   45.9       69.3    9.3          10.23\n",
      "3    151.5   41.3       58.5   18.5          20.35\n",
      "4    180.8   10.8       58.4   12.9          14.19\n",
      "..     ...    ...        ...    ...            ...\n",
      "195   38.2    3.7       13.8    7.6           8.36\n",
      "196   94.2    4.9        8.1    9.7          10.67\n",
      "197  177.0    9.3        6.4   12.8          14.08\n",
      "198  283.6   42.0       66.2   25.5          28.05\n",
      "199  232.1    8.6        8.7   13.4          14.74\n",
      "\n",
      "[200 rows x 5 columns]\n"
     ]
    }
   ],
   "source": [
    "# x\n",
    "df['updated_sales'] = df['sales'] + df['sales']*0.10 \n",
    "print(df)"
   ]
  },
  {
   "cell_type": "code",
   "execution_count": 61,
   "id": "d18c9c4f-0632-452f-9be5-60789b0b47a9",
   "metadata": {},
   "outputs": [
    {
     "data": {
      "text/html": [
       "<div>\n",
       "<style scoped>\n",
       "    .dataframe tbody tr th:only-of-type {\n",
       "        vertical-align: middle;\n",
       "    }\n",
       "\n",
       "    .dataframe tbody tr th {\n",
       "        vertical-align: top;\n",
       "    }\n",
       "\n",
       "    .dataframe thead th {\n",
       "        text-align: right;\n",
       "    }\n",
       "</style>\n",
       "<table border=\"1\" class=\"dataframe\">\n",
       "  <thead>\n",
       "    <tr style=\"text-align: right;\">\n",
       "      <th></th>\n",
       "      <th>TV</th>\n",
       "      <th>newspaper</th>\n",
       "      <th>sales</th>\n",
       "      <th>updated_sales</th>\n",
       "    </tr>\n",
       "  </thead>\n",
       "  <tbody>\n",
       "    <tr>\n",
       "      <th>0</th>\n",
       "      <td>230.1</td>\n",
       "      <td>69.2</td>\n",
       "      <td>22.1</td>\n",
       "      <td>24.31</td>\n",
       "    </tr>\n",
       "    <tr>\n",
       "      <th>1</th>\n",
       "      <td>44.5</td>\n",
       "      <td>45.1</td>\n",
       "      <td>10.4</td>\n",
       "      <td>11.44</td>\n",
       "    </tr>\n",
       "    <tr>\n",
       "      <th>2</th>\n",
       "      <td>17.2</td>\n",
       "      <td>69.3</td>\n",
       "      <td>9.3</td>\n",
       "      <td>10.23</td>\n",
       "    </tr>\n",
       "    <tr>\n",
       "      <th>3</th>\n",
       "      <td>151.5</td>\n",
       "      <td>58.5</td>\n",
       "      <td>18.5</td>\n",
       "      <td>20.35</td>\n",
       "    </tr>\n",
       "    <tr>\n",
       "      <th>4</th>\n",
       "      <td>180.8</td>\n",
       "      <td>58.4</td>\n",
       "      <td>12.9</td>\n",
       "      <td>14.19</td>\n",
       "    </tr>\n",
       "    <tr>\n",
       "      <th>...</th>\n",
       "      <td>...</td>\n",
       "      <td>...</td>\n",
       "      <td>...</td>\n",
       "      <td>...</td>\n",
       "    </tr>\n",
       "    <tr>\n",
       "      <th>195</th>\n",
       "      <td>38.2</td>\n",
       "      <td>13.8</td>\n",
       "      <td>7.6</td>\n",
       "      <td>8.36</td>\n",
       "    </tr>\n",
       "    <tr>\n",
       "      <th>196</th>\n",
       "      <td>94.2</td>\n",
       "      <td>8.1</td>\n",
       "      <td>9.7</td>\n",
       "      <td>10.67</td>\n",
       "    </tr>\n",
       "    <tr>\n",
       "      <th>197</th>\n",
       "      <td>177.0</td>\n",
       "      <td>6.4</td>\n",
       "      <td>12.8</td>\n",
       "      <td>14.08</td>\n",
       "    </tr>\n",
       "    <tr>\n",
       "      <th>198</th>\n",
       "      <td>283.6</td>\n",
       "      <td>66.2</td>\n",
       "      <td>25.5</td>\n",
       "      <td>28.05</td>\n",
       "    </tr>\n",
       "    <tr>\n",
       "      <th>199</th>\n",
       "      <td>232.1</td>\n",
       "      <td>8.7</td>\n",
       "      <td>13.4</td>\n",
       "      <td>14.74</td>\n",
       "    </tr>\n",
       "  </tbody>\n",
       "</table>\n",
       "<p>200 rows × 4 columns</p>\n",
       "</div>"
      ],
      "text/plain": [
       "        TV  newspaper  sales  updated_sales\n",
       "0    230.1       69.2   22.1          24.31\n",
       "1     44.5       45.1   10.4          11.44\n",
       "2     17.2       69.3    9.3          10.23\n",
       "3    151.5       58.5   18.5          20.35\n",
       "4    180.8       58.4   12.9          14.19\n",
       "..     ...        ...    ...            ...\n",
       "195   38.2       13.8    7.6           8.36\n",
       "196   94.2        8.1    9.7          10.67\n",
       "197  177.0        6.4   12.8          14.08\n",
       "198  283.6       66.2   25.5          28.05\n",
       "199  232.1        8.7   13.4          14.74\n",
       "\n",
       "[200 rows x 4 columns]"
      ]
     },
     "execution_count": 61,
     "metadata": {},
     "output_type": "execute_result"
    }
   ],
   "source": [
    "# ix\n",
    "df.drop(['radio'],axis = 1)\n"
   ]
  },
  {
   "cell_type": "code",
   "execution_count": 63,
   "id": "f8b87085-1c57-4883-a5ea-a9fb51efd283",
   "metadata": {},
   "outputs": [],
   "source": [
    "df.to_csv('Advertising')"
   ]
  },
  {
   "cell_type": "code",
   "execution_count": 64,
   "id": "b3bdcf79-bfff-4c9e-8a17-7985d050767a",
   "metadata": {},
   "outputs": [
    {
     "name": "stdout",
     "output_type": "stream",
     "text": [
      "        TV  radio  newspaper  sales  updated_sales\n",
      "0    230.1   37.8       69.2   22.1          24.31\n",
      "1     44.5   39.3       45.1   10.4          11.44\n",
      "2     17.2   45.9       69.3    9.3          10.23\n",
      "3    151.5   41.3       58.5   18.5          20.35\n",
      "4    180.8   10.8       58.4   12.9          14.19\n",
      "..     ...    ...        ...    ...            ...\n",
      "195   38.2    3.7       13.8    7.6           8.36\n",
      "196   94.2    4.9        8.1    9.7          10.67\n",
      "197  177.0    9.3        6.4   12.8          14.08\n",
      "198  283.6   42.0       66.2   25.5          28.05\n",
      "199  232.1    8.6        8.7   13.4          14.74\n",
      "\n",
      "[200 rows x 5 columns]\n"
     ]
    }
   ],
   "source": [
    "print(df)"
   ]
  },
  {
   "cell_type": "code",
   "execution_count": 58,
   "id": "4d324a42-d5fc-406c-beaf-f412e8f8d6d6",
   "metadata": {},
   "outputs": [
    {
     "data": {
      "text/plain": [
       "TV               0\n",
       "radio            0\n",
       "newspaper        0\n",
       "sales            0\n",
       "updated_sales    0\n",
       "dtype: int64"
      ]
     },
     "execution_count": 58,
     "metadata": {},
     "output_type": "execute_result"
    }
   ],
   "source": [
    "# viii\n",
    "df.isna().sum()"
   ]
  },
  {
   "cell_type": "code",
   "execution_count": 54,
   "id": "ecd44b00-dec2-401c-91d3-393d012e0cc6",
   "metadata": {},
   "outputs": [
    {
     "name": "stdout",
     "output_type": "stream",
     "text": [
      "TV               float64\n",
      "radio            float64\n",
      "newspaper        float64\n",
      "sales            float64\n",
      "updated_sales    float64\n",
      "dtype: object\n"
     ]
    }
   ],
   "source": [
    "# vii\n",
    "\n",
    "datatypes = df.dtypes\n",
    "print(datatypes)"
   ]
  },
  {
   "cell_type": "code",
   "execution_count": 65,
   "id": "929fba35-b359-43f4-96f7-4bc52a7e287d",
   "metadata": {},
   "outputs": [],
   "source": [
    "# Question 12\n",
    "# i\n",
    "Salaries = pd.read_csv('Salary_Data.csv')"
   ]
  },
  {
   "cell_type": "code",
   "execution_count": 66,
   "id": "cf2462e1-aa5c-4541-aa37-0c1d17298e05",
   "metadata": {},
   "outputs": [
    {
     "name": "stdout",
     "output_type": "stream",
     "text": [
      "    YearsExperience  Salary\n",
      "0               1.1   39343\n",
      "1               1.3   46205\n",
      "2               1.5   37731\n",
      "3               2.0   43525\n",
      "4               2.2   39891\n",
      "5               2.9   56642\n",
      "6               3.0   60150\n",
      "7               3.2   54445\n",
      "8               3.2   64445\n",
      "9               3.7   57189\n",
      "10              3.9   63218\n",
      "11              4.0   55794\n",
      "12              4.0   56957\n",
      "13              4.1   57081\n",
      "14              4.5   61111\n",
      "15              4.9   67938\n",
      "16              5.1   66029\n",
      "17              5.3   83088\n",
      "18              5.9   81363\n",
      "19              6.0   93940\n",
      "20              6.8   91738\n",
      "21              7.1   98273\n",
      "22              7.9  101302\n",
      "23              8.2  113812\n",
      "24              8.7  109431\n",
      "25              9.0  105582\n",
      "26              9.5  116969\n",
      "27              9.6  112635\n",
      "28             10.3  122391\n",
      "29             10.5  121872\n",
      "30             11.0  140000\n",
      "31             12.0  155000\n",
      "32             13.0  156000\n"
     ]
    }
   ],
   "source": [
    "print(Salaries)"
   ]
  },
  {
   "cell_type": "code",
   "execution_count": 67,
   "id": "7a9f1811-93cb-455e-9252-6474987cc7c3",
   "metadata": {},
   "outputs": [
    {
     "data": {
      "text/html": [
       "<div>\n",
       "<style scoped>\n",
       "    .dataframe tbody tr th:only-of-type {\n",
       "        vertical-align: middle;\n",
       "    }\n",
       "\n",
       "    .dataframe tbody tr th {\n",
       "        vertical-align: top;\n",
       "    }\n",
       "\n",
       "    .dataframe thead th {\n",
       "        text-align: right;\n",
       "    }\n",
       "</style>\n",
       "<table border=\"1\" class=\"dataframe\">\n",
       "  <thead>\n",
       "    <tr style=\"text-align: right;\">\n",
       "      <th></th>\n",
       "      <th>YearsExperience</th>\n",
       "      <th>Salary</th>\n",
       "    </tr>\n",
       "  </thead>\n",
       "  <tbody>\n",
       "    <tr>\n",
       "      <th>0</th>\n",
       "      <td>1.1</td>\n",
       "      <td>39343</td>\n",
       "    </tr>\n",
       "    <tr>\n",
       "      <th>1</th>\n",
       "      <td>1.3</td>\n",
       "      <td>46205</td>\n",
       "    </tr>\n",
       "    <tr>\n",
       "      <th>2</th>\n",
       "      <td>1.5</td>\n",
       "      <td>37731</td>\n",
       "    </tr>\n",
       "    <tr>\n",
       "      <th>3</th>\n",
       "      <td>2.0</td>\n",
       "      <td>43525</td>\n",
       "    </tr>\n",
       "    <tr>\n",
       "      <th>4</th>\n",
       "      <td>2.2</td>\n",
       "      <td>39891</td>\n",
       "    </tr>\n",
       "  </tbody>\n",
       "</table>\n",
       "</div>"
      ],
      "text/plain": [
       "   YearsExperience  Salary\n",
       "0              1.1   39343\n",
       "1              1.3   46205\n",
       "2              1.5   37731\n",
       "3              2.0   43525\n",
       "4              2.2   39891"
      ]
     },
     "execution_count": 67,
     "metadata": {},
     "output_type": "execute_result"
    }
   ],
   "source": [
    "# ii\n",
    "Salaries.head()"
   ]
  },
  {
   "cell_type": "code",
   "execution_count": 68,
   "id": "d1ab4748-d4af-4cb6-8b1d-a997a28a5cc3",
   "metadata": {},
   "outputs": [
    {
     "data": {
      "text/html": [
       "<div>\n",
       "<style scoped>\n",
       "    .dataframe tbody tr th:only-of-type {\n",
       "        vertical-align: middle;\n",
       "    }\n",
       "\n",
       "    .dataframe tbody tr th {\n",
       "        vertical-align: top;\n",
       "    }\n",
       "\n",
       "    .dataframe thead th {\n",
       "        text-align: right;\n",
       "    }\n",
       "</style>\n",
       "<table border=\"1\" class=\"dataframe\">\n",
       "  <thead>\n",
       "    <tr style=\"text-align: right;\">\n",
       "      <th></th>\n",
       "      <th>YearsExperience</th>\n",
       "      <th>Salary</th>\n",
       "    </tr>\n",
       "  </thead>\n",
       "  <tbody>\n",
       "    <tr>\n",
       "      <th>0</th>\n",
       "      <td>1.1</td>\n",
       "      <td>39343</td>\n",
       "    </tr>\n",
       "    <tr>\n",
       "      <th>1</th>\n",
       "      <td>1.3</td>\n",
       "      <td>46205</td>\n",
       "    </tr>\n",
       "    <tr>\n",
       "      <th>2</th>\n",
       "      <td>1.5</td>\n",
       "      <td>37731</td>\n",
       "    </tr>\n",
       "    <tr>\n",
       "      <th>3</th>\n",
       "      <td>2.0</td>\n",
       "      <td>43525</td>\n",
       "    </tr>\n",
       "    <tr>\n",
       "      <th>4</th>\n",
       "      <td>2.2</td>\n",
       "      <td>39891</td>\n",
       "    </tr>\n",
       "    <tr>\n",
       "      <th>5</th>\n",
       "      <td>2.9</td>\n",
       "      <td>56642</td>\n",
       "    </tr>\n",
       "    <tr>\n",
       "      <th>6</th>\n",
       "      <td>3.0</td>\n",
       "      <td>60150</td>\n",
       "    </tr>\n",
       "    <tr>\n",
       "      <th>7</th>\n",
       "      <td>3.2</td>\n",
       "      <td>54445</td>\n",
       "    </tr>\n",
       "    <tr>\n",
       "      <th>8</th>\n",
       "      <td>3.2</td>\n",
       "      <td>64445</td>\n",
       "    </tr>\n",
       "    <tr>\n",
       "      <th>9</th>\n",
       "      <td>3.7</td>\n",
       "      <td>57189</td>\n",
       "    </tr>\n",
       "  </tbody>\n",
       "</table>\n",
       "</div>"
      ],
      "text/plain": [
       "   YearsExperience  Salary\n",
       "0              1.1   39343\n",
       "1              1.3   46205\n",
       "2              1.5   37731\n",
       "3              2.0   43525\n",
       "4              2.2   39891\n",
       "5              2.9   56642\n",
       "6              3.0   60150\n",
       "7              3.2   54445\n",
       "8              3.2   64445\n",
       "9              3.7   57189"
      ]
     },
     "execution_count": 68,
     "metadata": {},
     "output_type": "execute_result"
    }
   ],
   "source": [
    "# iii\n",
    "Salaries.head(10)"
   ]
  },
  {
   "cell_type": "code",
   "execution_count": 70,
   "id": "fc229c36-d463-47ba-987a-d67ec96c29ae",
   "metadata": {},
   "outputs": [
    {
     "data": {
      "text/html": [
       "<div>\n",
       "<style scoped>\n",
       "    .dataframe tbody tr th:only-of-type {\n",
       "        vertical-align: middle;\n",
       "    }\n",
       "\n",
       "    .dataframe tbody tr th {\n",
       "        vertical-align: top;\n",
       "    }\n",
       "\n",
       "    .dataframe thead th {\n",
       "        text-align: right;\n",
       "    }\n",
       "</style>\n",
       "<table border=\"1\" class=\"dataframe\">\n",
       "  <thead>\n",
       "    <tr style=\"text-align: right;\">\n",
       "      <th></th>\n",
       "      <th>YearsExperience</th>\n",
       "      <th>Salary</th>\n",
       "    </tr>\n",
       "  </thead>\n",
       "  <tbody>\n",
       "    <tr>\n",
       "      <th>28</th>\n",
       "      <td>10.3</td>\n",
       "      <td>122391</td>\n",
       "    </tr>\n",
       "    <tr>\n",
       "      <th>29</th>\n",
       "      <td>10.5</td>\n",
       "      <td>121872</td>\n",
       "    </tr>\n",
       "    <tr>\n",
       "      <th>30</th>\n",
       "      <td>11.0</td>\n",
       "      <td>140000</td>\n",
       "    </tr>\n",
       "    <tr>\n",
       "      <th>31</th>\n",
       "      <td>12.0</td>\n",
       "      <td>155000</td>\n",
       "    </tr>\n",
       "    <tr>\n",
       "      <th>32</th>\n",
       "      <td>13.0</td>\n",
       "      <td>156000</td>\n",
       "    </tr>\n",
       "  </tbody>\n",
       "</table>\n",
       "</div>"
      ],
      "text/plain": [
       "    YearsExperience  Salary\n",
       "28             10.3  122391\n",
       "29             10.5  121872\n",
       "30             11.0  140000\n",
       "31             12.0  155000\n",
       "32             13.0  156000"
      ]
     },
     "execution_count": 70,
     "metadata": {},
     "output_type": "execute_result"
    }
   ],
   "source": [
    "# iv\n",
    "Salaries.tail()"
   ]
  },
  {
   "cell_type": "code",
   "execution_count": 71,
   "id": "7a7592d9-977f-4f02-86df-75b63b92f03e",
   "metadata": {},
   "outputs": [
    {
     "data": {
      "text/html": [
       "<div>\n",
       "<style scoped>\n",
       "    .dataframe tbody tr th:only-of-type {\n",
       "        vertical-align: middle;\n",
       "    }\n",
       "\n",
       "    .dataframe tbody tr th {\n",
       "        vertical-align: top;\n",
       "    }\n",
       "\n",
       "    .dataframe thead th {\n",
       "        text-align: right;\n",
       "    }\n",
       "</style>\n",
       "<table border=\"1\" class=\"dataframe\">\n",
       "  <thead>\n",
       "    <tr style=\"text-align: right;\">\n",
       "      <th></th>\n",
       "      <th>YearsExperience</th>\n",
       "      <th>Salary</th>\n",
       "    </tr>\n",
       "  </thead>\n",
       "  <tbody>\n",
       "    <tr>\n",
       "      <th>23</th>\n",
       "      <td>8.2</td>\n",
       "      <td>113812</td>\n",
       "    </tr>\n",
       "    <tr>\n",
       "      <th>24</th>\n",
       "      <td>8.7</td>\n",
       "      <td>109431</td>\n",
       "    </tr>\n",
       "    <tr>\n",
       "      <th>25</th>\n",
       "      <td>9.0</td>\n",
       "      <td>105582</td>\n",
       "    </tr>\n",
       "    <tr>\n",
       "      <th>26</th>\n",
       "      <td>9.5</td>\n",
       "      <td>116969</td>\n",
       "    </tr>\n",
       "    <tr>\n",
       "      <th>27</th>\n",
       "      <td>9.6</td>\n",
       "      <td>112635</td>\n",
       "    </tr>\n",
       "    <tr>\n",
       "      <th>28</th>\n",
       "      <td>10.3</td>\n",
       "      <td>122391</td>\n",
       "    </tr>\n",
       "    <tr>\n",
       "      <th>29</th>\n",
       "      <td>10.5</td>\n",
       "      <td>121872</td>\n",
       "    </tr>\n",
       "    <tr>\n",
       "      <th>30</th>\n",
       "      <td>11.0</td>\n",
       "      <td>140000</td>\n",
       "    </tr>\n",
       "    <tr>\n",
       "      <th>31</th>\n",
       "      <td>12.0</td>\n",
       "      <td>155000</td>\n",
       "    </tr>\n",
       "    <tr>\n",
       "      <th>32</th>\n",
       "      <td>13.0</td>\n",
       "      <td>156000</td>\n",
       "    </tr>\n",
       "  </tbody>\n",
       "</table>\n",
       "</div>"
      ],
      "text/plain": [
       "    YearsExperience  Salary\n",
       "23              8.2  113812\n",
       "24              8.7  109431\n",
       "25              9.0  105582\n",
       "26              9.5  116969\n",
       "27              9.6  112635\n",
       "28             10.3  122391\n",
       "29             10.5  121872\n",
       "30             11.0  140000\n",
       "31             12.0  155000\n",
       "32             13.0  156000"
      ]
     },
     "execution_count": 71,
     "metadata": {},
     "output_type": "execute_result"
    }
   ],
   "source": [
    "# v\n",
    "Salaries.tail(10)"
   ]
  },
  {
   "cell_type": "code",
   "execution_count": 73,
   "id": "db13e197-c473-4e4c-a433-c1c4a6d6d39d",
   "metadata": {},
   "outputs": [
    {
     "data": {
      "text/plain": [
       "Index(['YearsExperience', 'Salary'], dtype='object')"
      ]
     },
     "execution_count": 73,
     "metadata": {},
     "output_type": "execute_result"
    }
   ],
   "source": [
    "# vi\n",
    "Salaries.columns"
   ]
  },
  {
   "cell_type": "code",
   "execution_count": 74,
   "id": "a36ae4fe-e98b-4ff9-ba95-70696f3a0dd0",
   "metadata": {},
   "outputs": [
    {
     "data": {
      "text/plain": [
       "(33, 2)"
      ]
     },
     "execution_count": 74,
     "metadata": {},
     "output_type": "execute_result"
    }
   ],
   "source": [
    "# vii\n",
    "Salaries.shape"
   ]
  },
  {
   "cell_type": "code",
   "execution_count": 75,
   "id": "c62603d3-a3d8-4869-89e0-b31057b92a6d",
   "metadata": {},
   "outputs": [
    {
     "data": {
      "text/html": [
       "<div>\n",
       "<style scoped>\n",
       "    .dataframe tbody tr th:only-of-type {\n",
       "        vertical-align: middle;\n",
       "    }\n",
       "\n",
       "    .dataframe tbody tr th {\n",
       "        vertical-align: top;\n",
       "    }\n",
       "\n",
       "    .dataframe thead th {\n",
       "        text-align: right;\n",
       "    }\n",
       "</style>\n",
       "<table border=\"1\" class=\"dataframe\">\n",
       "  <thead>\n",
       "    <tr style=\"text-align: right;\">\n",
       "      <th></th>\n",
       "      <th>YearsExperience</th>\n",
       "      <th>Salary</th>\n",
       "    </tr>\n",
       "  </thead>\n",
       "  <tbody>\n",
       "    <tr>\n",
       "      <th>count</th>\n",
       "      <td>33.000000</td>\n",
       "      <td>33.000000</td>\n",
       "    </tr>\n",
       "    <tr>\n",
       "      <th>mean</th>\n",
       "      <td>5.921212</td>\n",
       "      <td>82760.303030</td>\n",
       "    </tr>\n",
       "    <tr>\n",
       "      <th>std</th>\n",
       "      <td>3.342413</td>\n",
       "      <td>34014.620992</td>\n",
       "    </tr>\n",
       "    <tr>\n",
       "      <th>min</th>\n",
       "      <td>1.100000</td>\n",
       "      <td>37731.000000</td>\n",
       "    </tr>\n",
       "    <tr>\n",
       "      <th>25%</th>\n",
       "      <td>3.200000</td>\n",
       "      <td>56957.000000</td>\n",
       "    </tr>\n",
       "    <tr>\n",
       "      <th>50%</th>\n",
       "      <td>5.100000</td>\n",
       "      <td>67938.000000</td>\n",
       "    </tr>\n",
       "    <tr>\n",
       "      <th>75%</th>\n",
       "      <td>8.700000</td>\n",
       "      <td>109431.000000</td>\n",
       "    </tr>\n",
       "    <tr>\n",
       "      <th>max</th>\n",
       "      <td>13.000000</td>\n",
       "      <td>156000.000000</td>\n",
       "    </tr>\n",
       "  </tbody>\n",
       "</table>\n",
       "</div>"
      ],
      "text/plain": [
       "       YearsExperience         Salary\n",
       "count        33.000000      33.000000\n",
       "mean          5.921212   82760.303030\n",
       "std           3.342413   34014.620992\n",
       "min           1.100000   37731.000000\n",
       "25%           3.200000   56957.000000\n",
       "50%           5.100000   67938.000000\n",
       "75%           8.700000  109431.000000\n",
       "max          13.000000  156000.000000"
      ]
     },
     "execution_count": 75,
     "metadata": {},
     "output_type": "execute_result"
    }
   ],
   "source": [
    "# viii and xi\n",
    "\n",
    "Salaries.describe()"
   ]
  },
  {
   "cell_type": "code",
   "execution_count": 76,
   "id": "bd85870d-52f1-4759-8e83-358b783d25f4",
   "metadata": {},
   "outputs": [
    {
     "name": "stdout",
     "output_type": "stream",
     "text": [
      "<class 'pandas.core.frame.DataFrame'>\n",
      "RangeIndex: 33 entries, 0 to 32\n",
      "Data columns (total 2 columns):\n",
      " #   Column           Non-Null Count  Dtype  \n",
      "---  ------           --------------  -----  \n",
      " 0   YearsExperience  33 non-null     float64\n",
      " 1   Salary           33 non-null     int64  \n",
      "dtypes: float64(1), int64(1)\n",
      "memory usage: 656.0 bytes\n"
     ]
    }
   ],
   "source": [
    "# ix\n",
    "Salaries.info()"
   ]
  },
  {
   "cell_type": "code",
   "execution_count": 79,
   "id": "12876cc6-e7aa-4462-b0c4-71e8de2e6aeb",
   "metadata": {},
   "outputs": [
    {
     "name": "stdout",
     "output_type": "stream",
     "text": [
      "YearsExperience    float64\n",
      "Salary               int64\n",
      "dtype: object\n"
     ]
    }
   ],
   "source": [
    "# x\n",
    "datatype = Salaries.dtypes\n",
    "print(datatype)"
   ]
  },
  {
   "cell_type": "code",
   "execution_count": null,
   "id": "3c8a71cc-9dba-4d3d-9f98-7ccfb17251be",
   "metadata": {},
   "outputs": [],
   "source": []
  }
 ],
 "metadata": {
  "kernelspec": {
   "display_name": "Python 3 (ipykernel)",
   "language": "python",
   "name": "python3"
  },
  "language_info": {
   "codemirror_mode": {
    "name": "ipython",
    "version": 3
   },
   "file_extension": ".py",
   "mimetype": "text/x-python",
   "name": "python",
   "nbconvert_exporter": "python",
   "pygments_lexer": "ipython3",
   "version": "3.10.12"
  }
 },
 "nbformat": 4,
 "nbformat_minor": 5
}
